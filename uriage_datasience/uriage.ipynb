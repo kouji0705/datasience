import pandas as pd 
uriage_data = pd.read_csv("uriage.csv")
uriage_data.head()